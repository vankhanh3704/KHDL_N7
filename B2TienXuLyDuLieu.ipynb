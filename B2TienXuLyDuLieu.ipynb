{
 "cells": [
  {
   "cell_type": "code",
   "execution_count": 7,
   "id": "073d5b6b",
   "metadata": {},
   "outputs": [],
   "source": [
    "import pandas as pd\n",
    "import numpy as np"
   ]
  },
  {
   "cell_type": "code",
   "execution_count": 8,
   "id": "af669343",
   "metadata": {},
   "outputs": [
    {
     "name": "stdout",
     "output_type": "stream",
     "text": [
      "Số dòng dữ liệu gốc: 2924\n",
      "title         193\n",
      "price           1\n",
      "area            0\n",
      "bedroom      1280\n",
      "toilet       1423\n",
      "link            0\n",
      "address        26\n",
      "legal         407\n",
      "furniture    1420\n",
      "post_date      26\n",
      "loai_bds        0\n",
      "district     2924\n",
      "dtype: int64\n"
     ]
    }
   ],
   "source": [
    "csv_file_path = \"batdongsan.csv\"\n",
    "normalized_csv_path = \"batdongsan_normalized.csv\"\n",
    "df = pd.read_csv(csv_file_path, sep=';', encoding='utf-8-sig')\n",
    "print(f\"Số dòng dữ liệu gốc: {len(df)}\")\n",
    "\n",
    "# xem dữ liệu các giá trị khuyết thiếu của từng cột\n",
    "print(df.isnull().sum())"
   ]
  },
  {
   "cell_type": "code",
   "execution_count": 9,
   "id": "53aa5643",
   "metadata": {},
   "outputs": [],
   "source": [
    "# Chuẩn hóa 'N/A' thành giá trị thiếu chuẩn (NaN)\n",
    "df.replace('N/A', np.nan, inplace=True)\n",
    "df.replace('=\"N/A\"', np.nan, inplace=True)"
   ]
  },
  {
   "cell_type": "code",
   "execution_count": 10,
   "id": "8fa6e02a",
   "metadata": {},
   "outputs": [],
   "source": [
    "# CHUYỂN ĐỔI DỮ LIỆU SANG DẠNG SỐ ---\n",
    "def clean_price(price_str):\n",
    "    if pd.isnull(price_str) or 'giá thỏa thuận' in str(price_str).lower():\n",
    "        return np.nan\n",
    "    price_str = str(price_str).lower().replace(',', '.')\n",
    "    if 'tỷ' in price_str:\n",
    "        value = price_str.replace('tỷ', '').strip()\n",
    "        try: return float(value)\n",
    "        except ValueError: return np.nan\n",
    "    elif 'triệu' in price_str:\n",
    "        value = price_str.replace('triệu', '').strip()\n",
    "        try: return float(value) / 1000\n",
    "        except ValueError: return np.nan\n",
    "    return np.nan\n",
    "\n",
    "def clean_area(area_str):\n",
    "    if pd.isnull(area_str): return np.nan\n",
    "    try: return float(str(area_str).replace('m²', '').strip())\n",
    "    except ValueError: return np.nan\n",
    "\n",
    "def clean_rooms(room_str):\n",
    "    if pd.isnull(room_str): return np.nan # Giữ là NaN để xử lý ở bước sau\n",
    "    try: return int(''.join(filter(str.isdigit, str(room_str))))\n",
    "    except ValueError: return np.nan\n",
    "\n",
    "\n",
    "df['price_ty'] = df['price'].apply(clean_price)\n",
    "df['area_m2'] = df['area'].apply(clean_area)\n",
    "df['bedrooms_num'] = df['bedroom'].apply(clean_rooms)\n",
    "df['toilets_num'] = df['toilet'].apply(clean_rooms)\n",
    "\n",
    "df.drop(columns=['price', 'area', 'bedroom', 'toilet'], inplace=True)\n"
   ]
  },
  {
   "cell_type": "code",
   "execution_count": 11,
   "id": "3c99cb65",
   "metadata": {},
   "outputs": [],
   "source": [
    "# --- XỬ LÝ GIÁ TRỊ THIẾU ---\n",
    "\n",
    "# Điền giá trị thiếu bằng TRUNG VỊ (median)\n",
    "median_price = df['price_ty'].median()\n",
    "median_area = df['area_m2'].median()\n",
    "median_bedrooms = df['bedrooms_num'].median()\n",
    "median_toilets = df['toilets_num'].median()\n",
    "\n",
    "df['price_ty'] = df['price_ty'].fillna(median_price)\n",
    "df['area_m2'] = df['area_m2'].fillna(median_area)\n",
    "df['bedrooms_num'] = df['bedrooms_num'].fillna(median_bedrooms)\n",
    "df['toilets_num'] = df['toilets_num'].fillna(median_toilets)\n",
    "\n",
    "# Các cột dạng chuỗi: điền 'Missing' nếu thiếu\n",
    "df['address'] = df['address'].fillna('Missing')\n",
    "df['district'] = df['address'].apply(\n",
    "    lambda x: x.split(',')[-2].strip() if isinstance(x, str) and len(x.split(',')) > 1 else 'Missing'\n",
    ")\n",
    "df['title'] = df['title'].fillna('Missing')\n",
    "df['loai_bds'] = df['loai_bds'].fillna('Missing')\n",
    "df['furniture'] = df['furniture'].fillna('Missing')\n",
    "df['legal'] = df['legal'].fillna('Missing')\n",
    "df['post_date'] = df['post_date'].fillna('Missing')\n",
    "df['link'] = df['link'].fillna('Missing')"
   ]
  },
  {
   "cell_type": "code",
   "execution_count": 15,
   "id": "1c3c1e73",
   "metadata": {},
   "outputs": [
    {
     "name": "stdout",
     "output_type": "stream",
     "text": [
      "\n",
      "Kiểm tra lại dữ liệu sau khi chuẩn hóa:\n",
      "title           0\n",
      "link            0\n",
      "address         0\n",
      "legal           0\n",
      "furniture       0\n",
      "post_date       0\n",
      "loai_bds        0\n",
      "district        0\n",
      "price_ty        0\n",
      "area_m2         0\n",
      "bedrooms_num    0\n",
      "toilets_num     0\n",
      "dtype: int64\n",
      "Hoàn thành! Dữ liệu đã chuẩn hóa được lưu tại: batdongsan_normalized.csv\n",
      "Tổng số dữ liệu cuối cùng: 2924\n"
     ]
    }
   ],
   "source": [
    "# Kiểm tra lại xem còn giá trị thiếu không\n",
    "print(\"\\nKiểm tra lại dữ liệu sau khi chuẩn hóa:\")\n",
    "print(df.isnull().sum())\n",
    "\n",
    "df.to_csv(normalized_csv_path, index=False, encoding='utf-8-sig')\n",
    "\n",
    "print(f\"Hoàn thành! Dữ liệu đã chuẩn hóa được lưu tại: {normalized_csv_path}\")\n",
    "print(f\"Tổng số dữ liệu cuối cùng: {len(df)}\")"
   ]
  }
 ],
 "metadata": {
  "kernelspec": {
   "display_name": "Python 3",
   "language": "python",
   "name": "python3"
  },
  "language_info": {
   "codemirror_mode": {
    "name": "ipython",
    "version": 3
   },
   "file_extension": ".py",
   "mimetype": "text/x-python",
   "name": "python",
   "nbconvert_exporter": "python",
   "pygments_lexer": "ipython3",
   "version": "3.12.5"
  }
 },
 "nbformat": 4,
 "nbformat_minor": 5
}
