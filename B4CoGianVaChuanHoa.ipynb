{
 "cells": [
  {
   "cell_type": "code",
   "execution_count": 5,
   "id": "933f8d6c",
   "metadata": {},
   "outputs": [],
   "source": [
    "import pandas as pd\n",
    "from sklearn.preprocessing import MinMaxScaler"
   ]
  },
  {
   "cell_type": "code",
   "execution_count": 6,
   "id": "b50cb81e",
   "metadata": {},
   "outputs": [
    {
     "name": "stdout",
     "output_type": "stream",
     "text": [
      "\n",
      "Các cột được co giãn: ['price_ty', 'area_m2', 'bedrooms_num', 'toilets_num']\n",
      "                                               title  \\\n",
      "0  Ban công Đông Nam - Không Mất Phí Môi Giới chí...   \n",
      "1  Giá chỉ từ 2 tỷ, đất đô thị Hòa Lạc, gần QL21 ...   \n",
      "2  Bán biệt thự mặt công viên 65hecta tại KĐT Cip...   \n",
      "3                                            Missing   \n",
      "4                                            Missing   \n",
      "\n",
      "                                                link  \\\n",
      "0  https://batdongsan.com.vn/ban-can-ho-chung-cu-...   \n",
      "1  https://batdongsan.com.vn/ban-dat-xa-phu-cat-1...   \n",
      "2  https://batdongsan.com.vn/ban-nha-biet-thu-lie...   \n",
      "3  https://batdongsan.com.vn/ban-dat-duong-hoi-ph...   \n",
      "4  https://batdongsan.com.vn/ban-nha-rieng-duong-...   \n",
      "\n",
      "                                             address             legal  \\\n",
      "0  Dự án Vinhomes Ocean Park Gia Lâm, Xã Dương Xá...    Sổ đỏ/ Sổ hồng   \n",
      "1                       Xã Phú Cát, Quốc Oai, Hà Nội    Sổ đỏ/ Sổ hồng   \n",
      "2  Dự án Kita Capital Ciputra, Phường Phú Thượng,...    Sổ đỏ/ Sổ hồng   \n",
      "3       Đường Hội Phụ, Xã Đông Hội, Đông Anh, Hà Nội    Sổ đỏ/ Sổ hồng   \n",
      "4  Đường Quan Hoa, Phường Quan Hoa, Cầu Giấy, Hà Nội  Sổ đỏ vuông đẹp.   \n",
      "\n",
      "        furniture   post_date          loai_bds  district  price_ty   area_m2  \\\n",
      "0          Cơ bản  18/10/2025   Căn hộ chung cư   Gia Lâm  0.213389  0.399015   \n",
      "1         Missing  18/10/2025    Đất nền/Thổ cư  Quốc Oai  0.038805  0.487685   \n",
      "2  Không nội thất  13/10/2025  Biệt thự/Liền kề    Tây Hồ  0.970576  0.684729   \n",
      "3         Missing  18/10/2025    Đất nền/Thổ cư  Đông Anh  0.109423  0.399015   \n",
      "4         Missing  18/10/2025    Nhà riêng/Khác  Cầu Giấy  0.259487  0.226601   \n",
      "\n",
      "   bedrooms_num  toilets_num  \n",
      "0      0.032258      0.03125  \n",
      "1      0.064516      0.06250  \n",
      "2      0.064516      0.06250  \n",
      "3      0.064516      0.06250  \n",
      "4      0.064516      0.06250  \n",
      "\n",
      "Thành công! Dữ liệu đã được co giãn và lưu vào tệp: 'batdongsan_data_scaled.csv'\n"
     ]
    }
   ],
   "source": [
    "df = pd.read_csv('batdongsan_data_no_outliers.csv')\n",
    "\n",
    "# Xác định các cột định lượng để co giãn\n",
    "quantitative_cols = df.select_dtypes(include=['int64', 'float64']).columns\n",
    "print(\"\\nCác cột được co giãn:\", list(quantitative_cols))\n",
    "\n",
    "df_scaled = df.copy()\n",
    "\n",
    "# Khởi tạo và áp dụng Min-Max Scaling\n",
    "scaler = MinMaxScaler()\n",
    "df_scaled[quantitative_cols] = scaler.fit_transform(df[quantitative_cols])\n",
    "\n",
    "print(df_scaled.head())\n",
    "\n",
    "# Lưu kết quả\n",
    "output_filename = 'batdongsan_data_scaled.csv'\n",
    "df_scaled.to_csv(output_filename, index=False)\n",
    "\n",
    "print(f\"\\nThành công! Dữ liệu đã được co giãn và lưu vào tệp: '{output_filename}'\")"
   ]
  }
 ],
 "metadata": {
  "kernelspec": {
   "display_name": "Python 3",
   "language": "python",
   "name": "python3"
  },
  "language_info": {
   "codemirror_mode": {
    "name": "ipython",
    "version": 3
   },
   "file_extension": ".py",
   "mimetype": "text/x-python",
   "name": "python",
   "nbconvert_exporter": "python",
   "pygments_lexer": "ipython3",
   "version": "3.12.5"
  }
 },
 "nbformat": 4,
 "nbformat_minor": 5
}
